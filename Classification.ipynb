{
 "cells": [
  {
   "cell_type": "markdown",
   "id": "f34043b4-7e73-418e-8fa0-853552c7936b",
   "metadata": {},
   "source": [
    "## Buzz Prediction on Twitter (Classification Models)\n",
    "Objective of this notebook:\n",
    "\n",
    "- Applied the below classification tasks to the data:\n",
    "    - KNN Classifier\n",
    "    - Linear Support Vector Machine\n",
    "    - Decision Tree\n",
    "\n",
    "- Justified about the good evaluation startegy for this datatset.\n",
    "- Used Grid Search in case the model has scaling parameter(s) to find the best scaling paramter.\n",
    "- Used cross-validation to find the average training and testing score.\n",
    "- Compared the results from above models and came out with the best classifier for this dataset."
   ]
  },
  {
   "cell_type": "code",
   "execution_count": null,
   "id": "ab4c5b85-bd17-451c-837e-851522c75b2b",
   "metadata": {
    "ExecuteTime": {
     "end_time": "2024-04-25T14:11:27.169711Z",
     "start_time": "2024-04-25T14:11:26.869237Z"
    },
    "trusted": true
   },
   "outputs": [
    {
     "ename": "",
     "evalue": "",
     "output_type": "error",
     "traceback": [
      "\u001b[1;31mRunning cells with 'Python 3.12.2' requires the ipykernel package.\n",
      "\u001b[1;31mRun the following command to install 'ipykernel' into the Python environment. \n",
      "\u001b[1;31mCommand: '/usr/local/bin/python3 -m pip install ipykernel -U --user --force-reinstall'"
     ]
    }
   ],
   "source": [
    "import pandas as pd\n",
    "import matplotlib.pyplot as plt\n",
    "import warnings\n",
    "\n",
    "warnings.filterwarnings('ignore')"
   ]
  },
  {
   "cell_type": "code",
   "execution_count": null,
   "id": "cf30d19f-bc46-4d1d-9349-6252c5637b6e",
   "metadata": {
    "ExecuteTime": {
     "end_time": "2024-04-25T14:11:34.671105Z",
     "start_time": "2024-04-25T14:11:28.406019Z"
    },
    "trusted": true
   },
   "outputs": [
    {
     "ename": "",
     "evalue": "",
     "output_type": "error",
     "traceback": [
      "\u001b[1;31mRunning cells with 'Python 3.12.2' requires the ipykernel package.\n",
      "\u001b[1;31mRun the following command to install 'ipykernel' into the Python environment. \n",
      "\u001b[1;31mCommand: '/usr/local/bin/python3 -m pip install ipykernel -U --user --force-reinstall'"
     ]
    }
   ],
   "source": [
    "data = pd.read_csv('./dataset/Twitter-Absolute-Sigma-500.data')"
   ]
  },
  {
   "cell_type": "code",
   "execution_count": null,
   "id": "9fa9e3d4-847d-4563-a61e-a6aaff7ee5dd",
   "metadata": {
    "ExecuteTime": {
     "end_time": "2024-04-25T14:11:34.718598Z",
     "start_time": "2024-04-25T14:11:34.678832Z"
    },
    "trusted": true
   },
   "outputs": [
    {
     "ename": "",
     "evalue": "",
     "output_type": "error",
     "traceback": [
      "\u001b[1;31mRunning cells with 'Python 3.12.2' requires the ipykernel package.\n",
      "\u001b[1;31mRun the following command to install 'ipykernel' into the Python environment. \n",
      "\u001b[1;31mCommand: '/usr/local/bin/python3 -m pip install ipykernel -U --user --force-reinstall'"
     ]
    }
   ],
   "source": [
    "# Rename columns\n",
    "data.columns = ['NCD_0','NCD_1','NCD_2','NCD_3','NCD_4','NCD_5','NCD_6','AI_0','AI_1','AI_2','AI_3','AI_4','AI_5','AI_6',\n",
    "               'AS(NA)_0','AS(NA)_1','AS(NA)_2','AS(NA)_3','AS(NA)_4','AS(NA)_5','AS(NA)_6','BL_0','BL_1','BL_2','BL_3',\n",
    "                'BL_4','BL_5','BL_6','NAC_0','NAC_1','NAC_2','NAC_3','NAC_4','NAC_5','NAC_6','AS(NAC)_0','AS(NAC)_1',\n",
    "               'AS(NAC)_2','AS(NAC)_3','AS(NAC)_4','AS(NAC)_5','AS(NAC)_6','CS_0','CS_1','CS_2','CS_3','CS_4','CS_5','CS_6',\n",
    "               'AT_0','AT_1','AT_2','AT_3','AT_4','AT_5','AT_6','NA_0','NA_1','NA_2','NA_3','NA_4','NA_5','NA_6','ADL_0',\n",
    "               'ADL_1','ADL_2','ADL_3','ADL_4','ADL_5','ADL_6','NAD_0','NAD_1','NAD_2','NAD_3','NAD_4','NAD_5','NAD_6','Target']"
   ]
  },
  {
   "cell_type": "code",
   "execution_count": null,
   "id": "1719b5de-cd02-4281-a66f-f4d42a2c546b",
   "metadata": {
    "ExecuteTime": {
     "end_time": "2024-04-25T14:11:34.818558Z",
     "start_time": "2024-04-25T14:11:34.723164Z"
    },
    "trusted": true
   },
   "outputs": [
    {
     "ename": "",
     "evalue": "",
     "output_type": "error",
     "traceback": [
      "\u001b[1;31mRunning cells with 'Python 3.12.2' requires the ipykernel package.\n",
      "\u001b[1;31mRun the following command to install 'ipykernel' into the Python environment. \n",
      "\u001b[1;31mCommand: '/usr/local/bin/python3 -m pip install ipykernel -U --user --force-reinstall'"
     ]
    }
   ],
   "source": [
    "data.head()"
   ]
  },
  {
   "cell_type": "code",
   "execution_count": null,
   "id": "93420f2d-3439-4900-991b-5c784cd8ddb8",
   "metadata": {
    "ExecuteTime": {
     "end_time": "2024-04-25T14:11:34.840896Z",
     "start_time": "2024-04-25T14:11:34.827617Z"
    },
    "trusted": true
   },
   "outputs": [
    {
     "ename": "",
     "evalue": "",
     "output_type": "error",
     "traceback": [
      "\u001b[1;31mRunning cells with 'Python 3.12.2' requires the ipykernel package.\n",
      "\u001b[1;31mRun the following command to install 'ipykernel' into the Python environment. \n",
      "\u001b[1;31mCommand: '/usr/local/bin/python3 -m pip install ipykernel -U --user --force-reinstall'"
     ]
    }
   ],
   "source": [
    "data.shape"
   ]
  },
  {
   "cell_type": "code",
   "execution_count": null,
   "id": "6e118cf0-ce21-4e1d-8232-cdcb77dd15e4",
   "metadata": {
    "ExecuteTime": {
     "end_time": "2024-04-25T14:11:36.335530Z",
     "start_time": "2024-04-25T14:11:34.847644Z"
    },
    "trusted": true
   },
   "outputs": [
    {
     "ename": "",
     "evalue": "",
     "output_type": "error",
     "traceback": [
      "\u001b[1;31mRunning cells with 'Python 3.12.2' requires the ipykernel package.\n",
      "\u001b[1;31mRun the following command to install 'ipykernel' into the Python environment. \n",
      "\u001b[1;31mCommand: '/usr/local/bin/python3 -m pip install ipykernel -U --user --force-reinstall'"
     ]
    }
   ],
   "source": [
    "data.describe()"
   ]
  },
  {
   "cell_type": "code",
   "execution_count": null,
   "id": "0e1dfee5-dab1-46a3-9571-e35c0c43da02",
   "metadata": {
    "ExecuteTime": {
     "end_time": "2024-04-25T14:11:36.429504Z",
     "start_time": "2024-04-25T14:11:36.339735Z"
    },
    "trusted": true
   },
   "outputs": [
    {
     "ename": "",
     "evalue": "",
     "output_type": "error",
     "traceback": [
      "\u001b[1;31mRunning cells with 'Python 3.12.2' requires the ipykernel package.\n",
      "\u001b[1;31mRun the following command to install 'ipykernel' into the Python environment. \n",
      "\u001b[1;31mCommand: '/usr/local/bin/python3 -m pip install ipykernel -U --user --force-reinstall'"
     ]
    }
   ],
   "source": [
    "data.info()"
   ]
  },
  {
   "cell_type": "code",
   "execution_count": null,
   "id": "26e188ea-4e36-4318-abd1-1b2471d304f5",
   "metadata": {
    "ExecuteTime": {
     "end_time": "2024-04-25T14:11:36.717451Z",
     "start_time": "2024-04-25T14:11:36.434504Z"
    },
    "trusted": true
   },
   "outputs": [
    {
     "ename": "",
     "evalue": "",
     "output_type": "error",
     "traceback": [
      "\u001b[1;31mRunning cells with 'Python 3.12.2' requires the ipykernel package.\n",
      "\u001b[1;31mRun the following command to install 'ipykernel' into the Python environment. \n",
      "\u001b[1;31mCommand: '/usr/local/bin/python3 -m pip install ipykernel -U --user --force-reinstall'"
     ]
    }
   ],
   "source": [
    "X = data.iloc[:,:-1]\n",
    "y = data.iloc[:,-1]\n",
    "print(X.shape)\n",
    "print(y.shape)\n",
    "\n",
    "from  sklearn.model_selection import train_test_split\n",
    "_, sample_data, _, sample_target = train_test_split(X, y, shuffle = True, test_size = 0.1)"
   ]
  },
  {
   "cell_type": "markdown",
   "id": "88676689-4bdc-43c3-a266-375d94b8f4ac",
   "metadata": {},
   "source": [
    "### Explore Dataset"
   ]
  },
  {
   "cell_type": "code",
   "execution_count": null,
   "id": "10bfe879-6305-46bd-8b64-b56277533e67",
   "metadata": {
    "ExecuteTime": {
     "end_time": "2024-04-25T14:11:36.740371Z",
     "start_time": "2024-04-25T14:11:36.723443Z"
    },
    "trusted": true
   },
   "outputs": [
    {
     "ename": "",
     "evalue": "",
     "output_type": "error",
     "traceback": [
      "\u001b[1;31mRunning cells with 'Python 3.12.2' requires the ipykernel package.\n",
      "\u001b[1;31mRun the following command to install 'ipykernel' into the Python environment. \n",
      "\u001b[1;31mCommand: '/usr/local/bin/python3 -m pip install ipykernel -U --user --force-reinstall'"
     ]
    }
   ],
   "source": [
    "y.sum()/y.count()"
   ]
  },
  {
   "cell_type": "markdown",
   "id": "6b41eefe-c3bc-4eda-97c1-4fa900616e60",
   "metadata": {},
   "source": [
    "Class Distribution: -- Positives instances (ie. Buzz) : 27775 (19 %) -- Negative instances (ie. Non Buzz) : 112931 (81 %)\n",
    "\n",
    "It can be clearly seen that this is an imbalanced dataset. Here we have to minimize both Type I and Type II errors, so we have used F1 Score as the evaluation metrics for this classification task.\n",
    "\n",
    "Also as the data points in the dataset is not normally distributed. Hence we have used MinMax Scaler."
   ]
  },
  {
   "cell_type": "code",
   "execution_count": null,
   "id": "adb531bf-8f46-46d1-9e16-54b407a5eacb",
   "metadata": {
    "ExecuteTime": {
     "end_time": "2024-04-25T14:11:36.847166Z",
     "start_time": "2024-04-25T14:11:36.745575Z"
    },
    "trusted": true
   },
   "outputs": [
    {
     "ename": "",
     "evalue": "",
     "output_type": "error",
     "traceback": [
      "\u001b[1;31mRunning cells with 'Python 3.12.2' requires the ipykernel package.\n",
      "\u001b[1;31mRun the following command to install 'ipykernel' into the Python environment. \n",
      "\u001b[1;31mCommand: '/usr/local/bin/python3 -m pip install ipykernel -U --user --force-reinstall'"
     ]
    }
   ],
   "source": [
    "from sklearn.model_selection import train_test_split\n",
    "from sklearn.preprocessing import MinMaxScaler\n",
    "from sklearn.model_selection import GridSearchCV\n",
    "from sklearn.metrics import f1_score\n",
    "\n",
    "X_train_org, X_test_org, y_train, y_test = train_test_split(sample_data,sample_target, random_state = 0)\n",
    "\n",
    "scaler = MinMaxScaler()\n",
    "X_train = scaler.fit_transform(X_train_org)\n",
    "X_test = scaler.transform(X_test_org)"
   ]
  },
  {
   "cell_type": "markdown",
   "id": "39bf23ac-7bf9-47f8-ba49-12e317b1173e",
   "metadata": {},
   "source": [
    "### 1. KNN Classsifier"
   ]
  },
  {
   "cell_type": "code",
   "execution_count": null,
   "id": "9d64c557-40f5-4cf9-a637-b59d57ee9eea",
   "metadata": {
    "ExecuteTime": {
     "end_time": "2024-04-25T14:12:07.466108Z",
     "start_time": "2024-04-25T14:11:36.859227Z"
    },
    "trusted": true
   },
   "outputs": [
    {
     "ename": "",
     "evalue": "",
     "output_type": "error",
     "traceback": [
      "\u001b[1;31mRunning cells with 'Python 3.12.2' requires the ipykernel package.\n",
      "\u001b[1;31mRun the following command to install 'ipykernel' into the Python environment. \n",
      "\u001b[1;31mCommand: '/usr/local/bin/python3 -m pip install ipykernel -U --user --force-reinstall'"
     ]
    }
   ],
   "source": [
    "from sklearn.neighbors import KNeighborsClassifier\n",
    "\n",
    "knn = KNeighborsClassifier()\n",
    "param_grid = {'n_neighbors':[1, 5, 10, 15, 20]}\n",
    "\n",
    "grid_knn = GridSearchCV(knn, param_grid=param_grid, cv=5, scoring='f1', return_train_score=True)\n",
    "grid_knn.fit(X_train, y_train)\n",
    "grid_knn.score(X_train, y_train)"
   ]
  },
  {
   "cell_type": "code",
   "execution_count": null,
   "id": "6eae56bb-de0d-4327-b0d7-a162fc693803",
   "metadata": {
    "ExecuteTime": {
     "end_time": "2024-04-25T14:12:08.325959Z",
     "start_time": "2024-04-25T14:12:07.468523Z"
    },
    "trusted": true
   },
   "outputs": [
    {
     "ename": "",
     "evalue": "",
     "output_type": "error",
     "traceback": [
      "\u001b[1;31mRunning cells with 'Python 3.12.2' requires the ipykernel package.\n",
      "\u001b[1;31mRun the following command to install 'ipykernel' into the Python environment. \n",
      "\u001b[1;31mCommand: '/usr/local/bin/python3 -m pip install ipykernel -U --user --force-reinstall'"
     ]
    }
   ],
   "source": [
    "grid_knn.score(X_test, y_test)"
   ]
  },
  {
   "cell_type": "code",
   "execution_count": null,
   "id": "8204dd0b-0557-45ad-a9d1-9550640b2f94",
   "metadata": {
    "ExecuteTime": {
     "end_time": "2024-04-25T14:12:08.353617Z",
     "start_time": "2024-04-25T14:12:08.331946Z"
    },
    "trusted": true
   },
   "outputs": [
    {
     "ename": "",
     "evalue": "",
     "output_type": "error",
     "traceback": [
      "\u001b[1;31mRunning cells with 'Python 3.12.2' requires the ipykernel package.\n",
      "\u001b[1;31mRun the following command to install 'ipykernel' into the Python environment. \n",
      "\u001b[1;31mCommand: '/usr/local/bin/python3 -m pip install ipykernel -U --user --force-reinstall'"
     ]
    }
   ],
   "source": [
    "grid_knn.best_params_"
   ]
  },
  {
   "cell_type": "code",
   "execution_count": null,
   "id": "fe245b53-9e47-4ccf-a78f-ccb116369aeb",
   "metadata": {
    "ExecuteTime": {
     "end_time": "2024-04-25T14:12:08.378892Z",
     "start_time": "2024-04-25T14:12:08.359171Z"
    },
    "trusted": true
   },
   "outputs": [
    {
     "ename": "",
     "evalue": "",
     "output_type": "error",
     "traceback": [
      "\u001b[1;31mRunning cells with 'Python 3.12.2' requires the ipykernel package.\n",
      "\u001b[1;31mRun the following command to install 'ipykernel' into the Python environment. \n",
      "\u001b[1;31mCommand: '/usr/local/bin/python3 -m pip install ipykernel -U --user --force-reinstall'"
     ]
    }
   ],
   "source": [
    "grid_knn.cv_results_['mean_test_score']"
   ]
  },
  {
   "cell_type": "code",
   "execution_count": null,
   "id": "6e829f03-7229-406d-9ec5-7ff355f25fbc",
   "metadata": {
    "ExecuteTime": {
     "end_time": "2024-04-25T14:12:11.643488Z",
     "start_time": "2024-04-25T14:12:08.387323Z"
    },
    "trusted": true
   },
   "outputs": [
    {
     "ename": "",
     "evalue": "",
     "output_type": "error",
     "traceback": [
      "\u001b[1;31mRunning cells with 'Python 3.12.2' requires the ipykernel package.\n",
      "\u001b[1;31mRun the following command to install 'ipykernel' into the Python environment. \n",
      "\u001b[1;31mCommand: '/usr/local/bin/python3 -m pip install ipykernel -U --user --force-reinstall'"
     ]
    }
   ],
   "source": [
    "y_knn_predict = grid_knn.predict(X_test)\n",
    "y_knn_train_predict = grid_knn.predict(X_train)"
   ]
  },
  {
   "cell_type": "code",
   "execution_count": null,
   "id": "71769eed-2952-4ede-b986-2982e888a17b",
   "metadata": {
    "ExecuteTime": {
     "end_time": "2024-04-25T14:12:11.688724Z",
     "start_time": "2024-04-25T14:12:11.646822Z"
    },
    "trusted": true
   },
   "outputs": [
    {
     "ename": "",
     "evalue": "",
     "output_type": "error",
     "traceback": [
      "\u001b[1;31mRunning cells with 'Python 3.12.2' requires the ipykernel package.\n",
      "\u001b[1;31mRun the following command to install 'ipykernel' into the Python environment. \n",
      "\u001b[1;31mCommand: '/usr/local/bin/python3 -m pip install ipykernel -U --user --force-reinstall'"
     ]
    }
   ],
   "source": [
    "print('Train F1 Score: %.4f'%f1_score(y_knn_train_predict, y_train))\n",
    "print('Test F1 Score: %.4f '%f1_score(y_knn_predict, y_test))"
   ]
  },
  {
   "cell_type": "code",
   "execution_count": null,
   "id": "389707ba-cda4-4eb5-9c10-568f3f4bd709",
   "metadata": {
    "ExecuteTime": {
     "end_time": "2024-04-25T14:12:11.730398Z",
     "start_time": "2024-04-25T14:12:11.692019Z"
    },
    "trusted": true
   },
   "outputs": [
    {
     "ename": "",
     "evalue": "",
     "output_type": "error",
     "traceback": [
      "\u001b[1;31mRunning cells with 'Python 3.12.2' requires the ipykernel package.\n",
      "\u001b[1;31mRun the following command to install 'ipykernel' into the Python environment. \n",
      "\u001b[1;31mCommand: '/usr/local/bin/python3 -m pip install ipykernel -U --user --force-reinstall'"
     ]
    }
   ],
   "source": [
    "cv_results_knn = pd.DataFrame.from_dict(grid_knn.cv_results_)\n",
    "cv_results_knn[['param_n_neighbors','mean_train_score','mean_test_score']]"
   ]
  },
  {
   "cell_type": "code",
   "execution_count": null,
   "id": "208d357d-9f86-4857-91e1-ce2034a8d67e",
   "metadata": {
    "ExecuteTime": {
     "end_time": "2024-04-25T14:12:13.428064Z",
     "start_time": "2024-04-25T14:12:11.736026Z"
    },
    "trusted": true
   },
   "outputs": [
    {
     "ename": "",
     "evalue": "",
     "output_type": "error",
     "traceback": [
      "\u001b[1;31mRunning cells with 'Python 3.12.2' requires the ipykernel package.\n",
      "\u001b[1;31mRun the following command to install 'ipykernel' into the Python environment. \n",
      "\u001b[1;31mCommand: '/usr/local/bin/python3 -m pip install ipykernel -U --user --force-reinstall'"
     ]
    }
   ],
   "source": [
    "x_axis = cv_results_knn['param_n_neighbors']\n",
    "%matplotlib inline\n",
    "plt.plot(x_axis, cv_results_knn['mean_train_score'], label = 'Mean Train Score', c = 'r', marker='o', linestyle='-')\n",
    "plt.plot(x_axis, cv_results_knn['mean_test_score'], label = 'Mean Test Score', c='b', marker='o', linestyle='-')\n",
    "plt.xlabel('k')\n",
    "plt.ylabel('Accuracy')\n",
    "plt.legend()"
   ]
  },
  {
   "cell_type": "code",
   "execution_count": null,
   "id": "edffa707-765e-4010-a558-de5aef6a8fce",
   "metadata": {
    "ExecuteTime": {
     "end_time": "2024-04-25T14:12:18.163919Z",
     "start_time": "2024-04-25T14:12:13.447183Z"
    },
    "trusted": true
   },
   "outputs": [
    {
     "ename": "",
     "evalue": "",
     "output_type": "error",
     "traceback": [
      "\u001b[1;31mRunning cells with 'Python 3.12.2' requires the ipykernel package.\n",
      "\u001b[1;31mRun the following command to install 'ipykernel' into the Python environment. \n",
      "\u001b[1;31mCommand: '/usr/local/bin/python3 -m pip install ipykernel -U --user --force-reinstall'"
     ]
    }
   ],
   "source": [
    "report_table = [['KNN', 'k = 5', grid_knn.score(X_train, y_train), grid_knn.score(X_test, y_test), f1_score(y_knn_train_predict, y_train), f1_score(y_knn_predict, y_test) ]]"
   ]
  },
  {
   "cell_type": "markdown",
   "id": "f2b2878c-e973-4963-98f8-d525f1fe5d93",
   "metadata": {},
   "source": [
    "### 2. Linear SVC"
   ]
  },
  {
   "cell_type": "code",
   "execution_count": null,
   "id": "906c67fc-a9cd-477a-896d-e7961e2d42d1",
   "metadata": {
    "ExecuteTime": {
     "end_time": "2024-04-25T14:12:18.179997Z",
     "start_time": "2024-04-25T14:12:18.167313Z"
    },
    "trusted": true
   },
   "outputs": [
    {
     "ename": "",
     "evalue": "",
     "output_type": "error",
     "traceback": [
      "\u001b[1;31mRunning cells with 'Python 3.12.2' requires the ipykernel package.\n",
      "\u001b[1;31mRun the following command to install 'ipykernel' into the Python environment. \n",
      "\u001b[1;31mCommand: '/usr/local/bin/python3 -m pip install ipykernel -U --user --force-reinstall'"
     ]
    }
   ],
   "source": [
    "from sklearn.svm import SVC\n",
    "from sklearn.model_selection import GridSearchCV\n",
    "\n",
    "svc_linear = SVC(kernel = 'linear') \n",
    "param_grid = {'C':[0.01, 0.1, 1, 10]}\n",
    "print(\"Parameter grid for Linear SVC: {}\".format(param_grid))\n",
    "\n",
    "grid_svcLinear = GridSearchCV(svc_linear, param_grid = param_grid, cv = 5, n_jobs = -1, scoring='f1', return_train_score=True)"
   ]
  },
  {
   "cell_type": "code",
   "execution_count": null,
   "id": "fb00768f-2857-4c18-b2ce-a4d660f78ab8",
   "metadata": {
    "ExecuteTime": {
     "end_time": "2024-04-25T14:13:02.611963Z",
     "start_time": "2024-04-25T14:12:18.182993Z"
    },
    "trusted": true
   },
   "outputs": [
    {
     "ename": "",
     "evalue": "",
     "output_type": "error",
     "traceback": [
      "\u001b[1;31mRunning cells with 'Python 3.12.2' requires the ipykernel package.\n",
      "\u001b[1;31mRun the following command to install 'ipykernel' into the Python environment. \n",
      "\u001b[1;31mCommand: '/usr/local/bin/python3 -m pip install ipykernel -U --user --force-reinstall'"
     ]
    }
   ],
   "source": [
    "grid_svcLinear.fit(X_train, y_train)"
   ]
  },
  {
   "cell_type": "code",
   "execution_count": null,
   "id": "f563f2fd-7166-4c8a-ad8d-8cca35ab2fa8",
   "metadata": {
    "ExecuteTime": {
     "end_time": "2024-04-25T14:13:02.683954Z",
     "start_time": "2024-04-25T14:13:02.618471Z"
    },
    "trusted": true
   },
   "outputs": [
    {
     "ename": "",
     "evalue": "",
     "output_type": "error",
     "traceback": [
      "\u001b[1;31mRunning cells with 'Python 3.12.2' requires the ipykernel package.\n",
      "\u001b[1;31mRun the following command to install 'ipykernel' into the Python environment. \n",
      "\u001b[1;31mCommand: '/usr/local/bin/python3 -m pip install ipykernel -U --user --force-reinstall'"
     ]
    }
   ],
   "source": [
    "cv_results_lsvc = pd.DataFrame.from_dict(grid_svcLinear.cv_results_)\n",
    "cv_results_lsvc[['param_C','mean_train_score','mean_test_score']]"
   ]
  },
  {
   "cell_type": "code",
   "execution_count": null,
   "id": "bfb5cc74-ab03-4d9e-a373-376acb88f40f",
   "metadata": {
    "ExecuteTime": {
     "end_time": "2024-04-25T14:13:06.283008Z",
     "start_time": "2024-04-25T14:13:02.688341Z"
    },
    "trusted": true
   },
   "outputs": [
    {
     "ename": "",
     "evalue": "",
     "output_type": "error",
     "traceback": [
      "\u001b[1;31mRunning cells with 'Python 3.12.2' requires the ipykernel package.\n",
      "\u001b[1;31mRun the following command to install 'ipykernel' into the Python environment. \n",
      "\u001b[1;31mCommand: '/usr/local/bin/python3 -m pip install ipykernel -U --user --force-reinstall'"
     ]
    }
   ],
   "source": [
    "x_axis = cv_results_lsvc['param_C']\n",
    "plt.plot(x_axis, cv_results_lsvc['mean_train_score'], c = 'r', label = 'Mean Train Score', marker='o', linestyle='-')\n",
    "plt.plot(x_axis, cv_results_lsvc['mean_test_score'], c = 'b', label = 'Mean Test Score', marker='o', linestyle='-')\n",
    "plt.legend()\n",
    "plt.title('Scores from 5 fold cross validation')\n",
    "plt.xlabel('C')\n",
    "plt.ylabel('Accuracy')\n",
    "plt.xscale('log')"
   ]
  },
  {
   "cell_type": "code",
   "execution_count": null,
   "id": "4ee2f994-6002-4fe8-a3ff-7d9c66eaad87",
   "metadata": {
    "ExecuteTime": {
     "end_time": "2024-04-25T14:13:10.035689Z",
     "start_time": "2024-04-25T14:13:06.338314Z"
    },
    "trusted": true
   },
   "outputs": [
    {
     "ename": "",
     "evalue": "",
     "output_type": "error",
     "traceback": [
      "\u001b[1;31mRunning cells with 'Python 3.12.2' requires the ipykernel package.\n",
      "\u001b[1;31mRun the following command to install 'ipykernel' into the Python environment. \n",
      "\u001b[1;31mCommand: '/usr/local/bin/python3 -m pip install ipykernel -U --user --force-reinstall'"
     ]
    }
   ],
   "source": [
    "print(\"Best cross-validation score: {:.4f}\".format(grid_svcLinear.best_score_))\n",
    "print('Best penalty term:',grid_svcLinear.best_params_)\n",
    "print(\"Training Score: {:.4f}\".format(grid_svcLinear.score(X_train, y_train)))\n",
    "print(\"Testing Score: {:.4f}\".format(grid_svcLinear.score(X_test, y_test)))"
   ]
  },
  {
   "cell_type": "code",
   "execution_count": null,
   "id": "d28f6c63-9af4-4da5-848e-f380f7aeb24c",
   "metadata": {
    "ExecuteTime": {
     "end_time": "2024-04-25T14:13:12.922345Z",
     "start_time": "2024-04-25T14:13:10.048734Z"
    },
    "trusted": true
   },
   "outputs": [
    {
     "ename": "",
     "evalue": "",
     "output_type": "error",
     "traceback": [
      "\u001b[1;31mRunning cells with 'Python 3.12.2' requires the ipykernel package.\n",
      "\u001b[1;31mRun the following command to install 'ipykernel' into the Python environment. \n",
      "\u001b[1;31mCommand: '/usr/local/bin/python3 -m pip install ipykernel -U --user --force-reinstall'"
     ]
    }
   ],
   "source": [
    "y_svcLinear_predict_train = grid_svcLinear.predict(X_train)\n",
    "y_svcLinear_predict = grid_svcLinear.predict(X_test)"
   ]
  },
  {
   "cell_type": "code",
   "execution_count": null,
   "id": "56eadff1-8f77-48e7-a210-3144a1a743ca",
   "metadata": {
    "ExecuteTime": {
     "end_time": "2024-04-25T14:13:14.927732Z",
     "start_time": "2024-04-25T14:13:12.927722Z"
    },
    "trusted": true
   },
   "outputs": [
    {
     "ename": "",
     "evalue": "",
     "output_type": "error",
     "traceback": [
      "\u001b[1;31mRunning cells with 'Python 3.12.2' requires the ipykernel package.\n",
      "\u001b[1;31mRun the following command to install 'ipykernel' into the Python environment. \n",
      "\u001b[1;31mCommand: '/usr/local/bin/python3 -m pip install ipykernel -U --user --force-reinstall'"
     ]
    }
   ],
   "source": [
    "report_table = report_table + [['Linear SVC', 'C = 10', grid_svcLinear.score(X_train, y_train), grid_svcLinear.score(X_test, y_test), f1_score(y_svcLinear_predict_train, y_train), f1_score(y_svcLinear_predict, y_test)]]"
   ]
  },
  {
   "cell_type": "markdown",
   "id": "2c52b80e-818c-4c70-88aa-32f1701c139a",
   "metadata": {},
   "source": [
    "### 3. Decision Tree"
   ]
  },
  {
   "cell_type": "code",
   "execution_count": null,
   "id": "97746fa9-df1d-4073-8439-4a9665186782",
   "metadata": {
    "ExecuteTime": {
     "end_time": "2024-04-25T14:13:23.403530Z",
     "start_time": "2024-04-25T14:13:14.933657Z"
    },
    "trusted": true
   },
   "outputs": [
    {
     "ename": "",
     "evalue": "",
     "output_type": "error",
     "traceback": [
      "\u001b[1;31mRunning cells with 'Python 3.12.2' requires the ipykernel package.\n",
      "\u001b[1;31mRun the following command to install 'ipykernel' into the Python environment. \n",
      "\u001b[1;31mCommand: '/usr/local/bin/python3 -m pip install ipykernel -U --user --force-reinstall'"
     ]
    }
   ],
   "source": [
    "from sklearn.tree import DecisionTreeClassifier\n",
    "\n",
    "param_grid = {'max_depth':[1, 2, 3, 4, 5, 6]}\n",
    "dtree = DecisionTreeClassifier()\n",
    "\n",
    "grid_tree = GridSearchCV(dtree, param_grid, cv = 5, scoring='f1', return_train_score=True)\n",
    "grid_tree.fit(X_train, y_train)"
   ]
  },
  {
   "cell_type": "code",
   "execution_count": null,
   "id": "ce56afe6-8414-4535-a8fa-4d08066a3232",
   "metadata": {
    "ExecuteTime": {
     "end_time": "2024-04-25T14:13:23.423396Z",
     "start_time": "2024-04-25T14:13:23.408205Z"
    },
    "trusted": true
   },
   "outputs": [
    {
     "ename": "",
     "evalue": "",
     "output_type": "error",
     "traceback": [
      "\u001b[1;31mRunning cells with 'Python 3.12.2' requires the ipykernel package.\n",
      "\u001b[1;31mRun the following command to install 'ipykernel' into the Python environment. \n",
      "\u001b[1;31mCommand: '/usr/local/bin/python3 -m pip install ipykernel -U --user --force-reinstall'"
     ]
    }
   ],
   "source": [
    "grid_tree.best_params_"
   ]
  },
  {
   "cell_type": "code",
   "execution_count": null,
   "id": "4407852f-ba51-4698-9b2b-44a8c040f315",
   "metadata": {
    "ExecuteTime": {
     "end_time": "2024-04-25T14:13:23.467124Z",
     "start_time": "2024-04-25T14:13:23.446081Z"
    },
    "trusted": true
   },
   "outputs": [
    {
     "ename": "",
     "evalue": "",
     "output_type": "error",
     "traceback": [
      "\u001b[1;31mRunning cells with 'Python 3.12.2' requires the ipykernel package.\n",
      "\u001b[1;31mRun the following command to install 'ipykernel' into the Python environment. \n",
      "\u001b[1;31mCommand: '/usr/local/bin/python3 -m pip install ipykernel -U --user --force-reinstall'"
     ]
    }
   ],
   "source": [
    "y_dtree_predict_train = grid_tree.predict(X_train)\n",
    "y_dtree_predict = grid_tree.predict(X_test)"
   ]
  },
  {
   "cell_type": "code",
   "execution_count": null,
   "id": "b5989a64",
   "metadata": {},
   "outputs": [
    {
     "ename": "",
     "evalue": "",
     "output_type": "error",
     "traceback": [
      "\u001b[1;31mRunning cells with 'Python 3.12.2' requires the ipykernel package.\n",
      "\u001b[1;31mRun the following command to install 'ipykernel' into the Python environment. \n",
      "\u001b[1;31mCommand: '/usr/local/bin/python3 -m pip install ipykernel -U --user --force-reinstall'"
     ]
    }
   ],
   "source": [
    "plt.figure(figsize=(10, 6))\n",
    "plt.plot(grid_tree.cv_results_['param_max_depth'], grid_tree.cv_results_['mean_train_score'], c='r', label='Mean Train Score', marker='o', linestyle='-')\n",
    "plt.plot(grid_tree.cv_results_['param_max_depth'], grid_tree.cv_results_['mean_test_score'], c='b', label='Mean Test Score', marker='o', linestyle='-')\n",
    "plt.xlabel('Max Depth')\n",
    "plt.ylabel('Accuracy')\n",
    "plt.title('Decision Tree: Scores from 5-Fold Cross Validation')\n",
    "plt.legend()\n",
    "plt.grid(True)\n",
    "plt.show()"
   ]
  },
  {
   "cell_type": "code",
   "execution_count": null,
   "id": "5a9d0d77-bcef-4886-964a-15ea99fe0074",
   "metadata": {
    "ExecuteTime": {
     "end_time": "2024-04-25T14:13:23.569542Z",
     "start_time": "2024-04-25T14:13:23.470797Z"
    },
    "trusted": true
   },
   "outputs": [
    {
     "ename": "",
     "evalue": "",
     "output_type": "error",
     "traceback": [
      "\u001b[1;31mRunning cells with 'Python 3.12.2' requires the ipykernel package.\n",
      "\u001b[1;31mRun the following command to install 'ipykernel' into the Python environment. \n",
      "\u001b[1;31mCommand: '/usr/local/bin/python3 -m pip install ipykernel -U --user --force-reinstall'"
     ]
    }
   ],
   "source": [
    "report_table = report_table + [['Decision Tree', 'max_depth = 4', grid_tree.score(X_train, y_train), grid_tree.score(X_test, y_test), f1_score(y_dtree_predict_train, y_train), f1_score(y_dtree_predict, y_test)]]"
   ]
  },
  {
   "cell_type": "code",
   "execution_count": null,
   "id": "ed40481f-55be-4da3-8b62-e5974c7523c1",
   "metadata": {
    "ExecuteTime": {
     "end_time": "2024-04-25T14:13:23.612494Z",
     "start_time": "2024-04-25T14:13:23.573067Z"
    },
    "trusted": true
   },
   "outputs": [
    {
     "ename": "",
     "evalue": "",
     "output_type": "error",
     "traceback": [
      "\u001b[1;31mRunning cells with 'Python 3.12.2' requires the ipykernel package.\n",
      "\u001b[1;31mRun the following command to install 'ipykernel' into the Python environment. \n",
      "\u001b[1;31mCommand: '/usr/local/bin/python3 -m pip install ipykernel -U --user --force-reinstall'"
     ]
    }
   ],
   "source": [
    "report = pd.DataFrame(report_table,columns = ['Model name', 'Model parameter', 'Train accuracy', 'Test accuracy', 'Train F1 score', 'Test F1 score'])\n",
    "report.index = report['Model name']\n",
    "report"
   ]
  },
  {
   "cell_type": "code",
   "execution_count": null,
   "id": "a2bbc1de",
   "metadata": {},
   "outputs": [
    {
     "ename": "",
     "evalue": "",
     "output_type": "error",
     "traceback": [
      "\u001b[1;31mRunning cells with 'Python 3.12.2' requires the ipykernel package.\n",
      "\u001b[1;31mRun the following command to install 'ipykernel' into the Python environment. \n",
      "\u001b[1;31mCommand: '/usr/local/bin/python3 -m pip install ipykernel -U --user --force-reinstall'"
     ]
    }
   ],
   "source": [
    "# Plotting the Mean Test Scores for KNN, Linear SVC, and Decision Tree\n",
    "plt.figure(figsize=(10, 6))\n",
    "\n",
    "plt.plot(cv_results_knn['param_n_neighbors'], cv_results_knn['mean_test_score'], label='KNN', marker='o', linestyle='-')\n",
    "\n",
    "plt.plot(cv_results_lsvc['param_C'], cv_results_lsvc['mean_test_score'], label='Linear SVC', marker='o', linestyle='-')\n",
    "\n",
    "plt.plot(grid_tree.cv_results_['param_max_depth'], grid_tree.cv_results_['mean_test_score'], label='Decision Tree', marker='o', linestyle='-')\n",
    "\n",
    "plt.xlabel('Parameter Value')\n",
    "plt.ylabel('Mean Test Score')\n",
    "plt.title('Comparison of Classification Algorithms')\n",
    "plt.legend()\n",
    "plt.grid(True)\n",
    "plt.show()"
   ]
  }
 ],
 "metadata": {
  "kernelspec": {
   "display_name": "Python 3 (ipykernel)",
   "language": "python",
   "name": "python3"
  },
  "language_info": {
   "codemirror_mode": {
    "name": "python",
    "version": 3
   },
   "file_extension": ".py",
   "mimetype": "text/x-python",
   "name": "python",
   "nbconvert_exporter": "python",
   "pygments_lexer": "ipython3",
   "version": "3.12.2"
  }
 },
 "nbformat": 4,
 "nbformat_minor": 5
}
